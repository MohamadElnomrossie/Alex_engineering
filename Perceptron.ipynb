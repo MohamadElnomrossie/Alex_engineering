{
 "cells": [
  {
   "cell_type": "code",
   "execution_count": 1,
   "id": "a8d20090-65d2-48d8-8b54-9a34f92b8c8d",
   "metadata": {},
   "outputs": [],
   "source": [
    "import numpy as np \n",
    "# numpy vs python list\n",
    "import pandas as pd \n",
    "from sklearn.datasets import load_breast_cancer\n",
    "\n",
    "import warnings  \n",
    "warnings.filterwarnings('ignore')"
   ]
  },
  {
   "cell_type": "code",
   "execution_count": 2,
   "id": "8ad72b6b-cf03-4a89-b8e4-5a0b15536bd4",
   "metadata": {},
   "outputs": [],
   "source": [
    "data=load_breast_cancer()"
   ]
  },
  {
   "cell_type": "code",
   "execution_count": 3,
   "id": "86d88ce7-8e36-4423-9645-f1cf1694461d",
   "metadata": {},
   "outputs": [
    {
     "data": {
      "text/plain": [
       "dict_keys(['data', 'target', 'frame', 'target_names', 'DESCR', 'feature_names', 'filename', 'data_module'])"
      ]
     },
     "execution_count": 3,
     "metadata": {},
     "output_type": "execute_result"
    }
   ],
   "source": [
    "data.keys()"
   ]
  },
  {
   "cell_type": "code",
   "execution_count": 4,
   "id": "99417766-ace3-4329-b8e8-5969d7c19fe2",
   "metadata": {
    "scrolled": true
   },
   "outputs": [
    {
     "data": {
      "text/plain": [
       "['.. _breast_cancer_dataset:',\n",
       " '',\n",
       " 'Breast cancer wisconsin (diagnostic) dataset',\n",
       " '--------------------------------------------',\n",
       " '',\n",
       " '**Data Set Characteristics:**',\n",
       " '',\n",
       " ':Number of Instances: 569',\n",
       " '',\n",
       " ':Number of Attributes: 30 numeric, predictive attributes and the class',\n",
       " '',\n",
       " ':Attribute Information:',\n",
       " '    - radius (mean of distances from center to points on the perimeter)',\n",
       " '    - texture (standard deviation of gray-scale values)',\n",
       " '    - perimeter',\n",
       " '    - area',\n",
       " '    - smoothness (local variation in radius lengths)',\n",
       " '    - compactness (perimeter^2 / area - 1.0)',\n",
       " '    - concavity (severity of concave portions of the contour)',\n",
       " '    - concave points (number of concave portions of the contour)',\n",
       " '    - symmetry',\n",
       " '    - fractal dimension (\"coastline approximation\" - 1)',\n",
       " '',\n",
       " '    The mean, standard error, and \"worst\" or largest (mean of the three',\n",
       " '    worst/largest values) of these features were computed for each image,',\n",
       " '    resulting in 30 features.  For instance, field 0 is Mean Radius, field',\n",
       " '    10 is Radius SE, field 20 is Worst Radius.',\n",
       " '',\n",
       " '    - class:',\n",
       " '            - WDBC-Malignant',\n",
       " '            - WDBC-Benign',\n",
       " '',\n",
       " ':Summary Statistics:',\n",
       " '',\n",
       " '===================================== ====== ======',\n",
       " '                                        Min    Max',\n",
       " '===================================== ====== ======',\n",
       " 'radius (mean):                        6.981  28.11',\n",
       " 'texture (mean):                       9.71   39.28',\n",
       " 'perimeter (mean):                     43.79  188.5',\n",
       " 'area (mean):                          143.5  2501.0',\n",
       " 'smoothness (mean):                    0.053  0.163',\n",
       " 'compactness (mean):                   0.019  0.345',\n",
       " 'concavity (mean):                     0.0    0.427',\n",
       " 'concave points (mean):                0.0    0.201',\n",
       " 'symmetry (mean):                      0.106  0.304',\n",
       " 'fractal dimension (mean):             0.05   0.097',\n",
       " 'radius (standard error):              0.112  2.873',\n",
       " 'texture (standard error):             0.36   4.885',\n",
       " 'perimeter (standard error):           0.757  21.98',\n",
       " 'area (standard error):                6.802  542.2',\n",
       " 'smoothness (standard error):          0.002  0.031',\n",
       " 'compactness (standard error):         0.002  0.135',\n",
       " 'concavity (standard error):           0.0    0.396',\n",
       " 'concave points (standard error):      0.0    0.053',\n",
       " 'symmetry (standard error):            0.008  0.079',\n",
       " 'fractal dimension (standard error):   0.001  0.03',\n",
       " 'radius (worst):                       7.93   36.04',\n",
       " 'texture (worst):                      12.02  49.54',\n",
       " 'perimeter (worst):                    50.41  251.2',\n",
       " 'area (worst):                         185.2  4254.0',\n",
       " 'smoothness (worst):                   0.071  0.223',\n",
       " 'compactness (worst):                  0.027  1.058',\n",
       " 'concavity (worst):                    0.0    1.252',\n",
       " 'concave points (worst):               0.0    0.291',\n",
       " 'symmetry (worst):                     0.156  0.664',\n",
       " 'fractal dimension (worst):            0.055  0.208',\n",
       " '===================================== ====== ======',\n",
       " '',\n",
       " ':Missing Attribute Values: None',\n",
       " '',\n",
       " ':Class Distribution: 212 - Malignant, 357 - Benign',\n",
       " '',\n",
       " ':Creator:  Dr. William H. Wolberg, W. Nick Street, Olvi L. Mangasarian',\n",
       " '',\n",
       " ':Donor: Nick Street',\n",
       " '',\n",
       " ':Date: November, 1995',\n",
       " '',\n",
       " 'This is a copy of UCI ML Breast Cancer Wisconsin (Diagnostic) datasets.',\n",
       " 'https://goo.gl/U2Uwz2',\n",
       " '',\n",
       " 'Features are computed from a digitized image of a fine needle',\n",
       " 'aspirate (FNA) of a breast mass.  They describe',\n",
       " 'characteristics of the cell nuclei present in the image.',\n",
       " '',\n",
       " 'Separating plane described above was obtained using',\n",
       " 'Multisurface Method-Tree (MSM-T) [K. P. Bennett, \"Decision Tree',\n",
       " 'Construction Via Linear Programming.\" Proceedings of the 4th',\n",
       " 'Midwest Artificial Intelligence and Cognitive Science Society,',\n",
       " 'pp. 97-101, 1992], a classification method which uses linear',\n",
       " 'programming to construct a decision tree.  Relevant features',\n",
       " 'were selected using an exhaustive search in the space of 1-4',\n",
       " 'features and 1-3 separating planes.',\n",
       " '',\n",
       " 'The actual linear program used to obtain the separating plane',\n",
       " 'in the 3-dimensional space is that described in:',\n",
       " '[K. P. Bennett and O. L. Mangasarian: \"Robust Linear',\n",
       " 'Programming Discrimination of Two Linearly Inseparable Sets\",',\n",
       " 'Optimization Methods and Software 1, 1992, 23-34].',\n",
       " '',\n",
       " 'This database is also available through the UW CS ftp server:',\n",
       " '',\n",
       " 'ftp ftp.cs.wisc.edu',\n",
       " 'cd math-prog/cpo-dataset/machine-learn/WDBC/',\n",
       " '',\n",
       " '.. dropdown:: References',\n",
       " '',\n",
       " '  - W.N. Street, W.H. Wolberg and O.L. Mangasarian. Nuclear feature extraction',\n",
       " '    for breast tumor diagnosis. IS&T/SPIE 1993 International Symposium on',\n",
       " '    Electronic Imaging: Science and Technology, volume 1905, pages 861-870,',\n",
       " '    San Jose, CA, 1993.',\n",
       " '  - O.L. Mangasarian, W.N. Street and W.H. Wolberg. Breast cancer diagnosis and',\n",
       " '    prognosis via linear programming. Operations Research, 43(4), pages 570-577,',\n",
       " '    July-August 1995.',\n",
       " '  - W.H. Wolberg, W.N. Street, and O.L. Mangasarian. Machine learning techniques',\n",
       " '    to diagnose breast cancer from fine-needle aspirates. Cancer Letters 77 (1994)',\n",
       " '    163-171.',\n",
       " '']"
      ]
     },
     "execution_count": 4,
     "metadata": {},
     "output_type": "execute_result"
    }
   ],
   "source": [
    "data.DESCR.split('\\n')"
   ]
  },
  {
   "cell_type": "code",
   "execution_count": 40,
   "id": "63814d94-f888-41f4-b016-ba8a763ac82f",
   "metadata": {},
   "outputs": [
    {
     "data": {
      "text/html": [
       "<div>\n",
       "<style scoped>\n",
       "    .dataframe tbody tr th:only-of-type {\n",
       "        vertical-align: middle;\n",
       "    }\n",
       "\n",
       "    .dataframe tbody tr th {\n",
       "        vertical-align: top;\n",
       "    }\n",
       "\n",
       "    .dataframe thead th {\n",
       "        text-align: right;\n",
       "    }\n",
       "</style>\n",
       "<table border=\"1\" class=\"dataframe\">\n",
       "  <thead>\n",
       "    <tr style=\"text-align: right;\">\n",
       "      <th></th>\n",
       "      <th>mean radius</th>\n",
       "      <th>mean texture</th>\n",
       "      <th>mean perimeter</th>\n",
       "      <th>mean area</th>\n",
       "      <th>mean smoothness</th>\n",
       "      <th>mean compactness</th>\n",
       "      <th>mean concavity</th>\n",
       "      <th>mean concave points</th>\n",
       "      <th>mean symmetry</th>\n",
       "      <th>mean fractal dimension</th>\n",
       "      <th>...</th>\n",
       "      <th>worst texture</th>\n",
       "      <th>worst perimeter</th>\n",
       "      <th>worst area</th>\n",
       "      <th>worst smoothness</th>\n",
       "      <th>worst compactness</th>\n",
       "      <th>worst concavity</th>\n",
       "      <th>worst concave points</th>\n",
       "      <th>worst symmetry</th>\n",
       "      <th>worst fractal dimension</th>\n",
       "      <th>target</th>\n",
       "    </tr>\n",
       "  </thead>\n",
       "  <tbody>\n",
       "    <tr>\n",
       "      <th>0</th>\n",
       "      <td>17.99</td>\n",
       "      <td>10.38</td>\n",
       "      <td>122.80</td>\n",
       "      <td>1001.0</td>\n",
       "      <td>0.11840</td>\n",
       "      <td>0.27760</td>\n",
       "      <td>0.3001</td>\n",
       "      <td>0.14710</td>\n",
       "      <td>0.2419</td>\n",
       "      <td>0.07871</td>\n",
       "      <td>...</td>\n",
       "      <td>17.33</td>\n",
       "      <td>184.60</td>\n",
       "      <td>2019.0</td>\n",
       "      <td>0.1622</td>\n",
       "      <td>0.6656</td>\n",
       "      <td>0.7119</td>\n",
       "      <td>0.2654</td>\n",
       "      <td>0.4601</td>\n",
       "      <td>0.11890</td>\n",
       "      <td>0</td>\n",
       "    </tr>\n",
       "    <tr>\n",
       "      <th>1</th>\n",
       "      <td>20.57</td>\n",
       "      <td>17.77</td>\n",
       "      <td>132.90</td>\n",
       "      <td>1326.0</td>\n",
       "      <td>0.08474</td>\n",
       "      <td>0.07864</td>\n",
       "      <td>0.0869</td>\n",
       "      <td>0.07017</td>\n",
       "      <td>0.1812</td>\n",
       "      <td>0.05667</td>\n",
       "      <td>...</td>\n",
       "      <td>23.41</td>\n",
       "      <td>158.80</td>\n",
       "      <td>1956.0</td>\n",
       "      <td>0.1238</td>\n",
       "      <td>0.1866</td>\n",
       "      <td>0.2416</td>\n",
       "      <td>0.1860</td>\n",
       "      <td>0.2750</td>\n",
       "      <td>0.08902</td>\n",
       "      <td>0</td>\n",
       "    </tr>\n",
       "    <tr>\n",
       "      <th>2</th>\n",
       "      <td>19.69</td>\n",
       "      <td>21.25</td>\n",
       "      <td>130.00</td>\n",
       "      <td>1203.0</td>\n",
       "      <td>0.10960</td>\n",
       "      <td>0.15990</td>\n",
       "      <td>0.1974</td>\n",
       "      <td>0.12790</td>\n",
       "      <td>0.2069</td>\n",
       "      <td>0.05999</td>\n",
       "      <td>...</td>\n",
       "      <td>25.53</td>\n",
       "      <td>152.50</td>\n",
       "      <td>1709.0</td>\n",
       "      <td>0.1444</td>\n",
       "      <td>0.4245</td>\n",
       "      <td>0.4504</td>\n",
       "      <td>0.2430</td>\n",
       "      <td>0.3613</td>\n",
       "      <td>0.08758</td>\n",
       "      <td>0</td>\n",
       "    </tr>\n",
       "    <tr>\n",
       "      <th>3</th>\n",
       "      <td>11.42</td>\n",
       "      <td>20.38</td>\n",
       "      <td>77.58</td>\n",
       "      <td>386.1</td>\n",
       "      <td>0.14250</td>\n",
       "      <td>0.28390</td>\n",
       "      <td>0.2414</td>\n",
       "      <td>0.10520</td>\n",
       "      <td>0.2597</td>\n",
       "      <td>0.09744</td>\n",
       "      <td>...</td>\n",
       "      <td>26.50</td>\n",
       "      <td>98.87</td>\n",
       "      <td>567.7</td>\n",
       "      <td>0.2098</td>\n",
       "      <td>0.8663</td>\n",
       "      <td>0.6869</td>\n",
       "      <td>0.2575</td>\n",
       "      <td>0.6638</td>\n",
       "      <td>0.17300</td>\n",
       "      <td>0</td>\n",
       "    </tr>\n",
       "    <tr>\n",
       "      <th>4</th>\n",
       "      <td>20.29</td>\n",
       "      <td>14.34</td>\n",
       "      <td>135.10</td>\n",
       "      <td>1297.0</td>\n",
       "      <td>0.10030</td>\n",
       "      <td>0.13280</td>\n",
       "      <td>0.1980</td>\n",
       "      <td>0.10430</td>\n",
       "      <td>0.1809</td>\n",
       "      <td>0.05883</td>\n",
       "      <td>...</td>\n",
       "      <td>16.67</td>\n",
       "      <td>152.20</td>\n",
       "      <td>1575.0</td>\n",
       "      <td>0.1374</td>\n",
       "      <td>0.2050</td>\n",
       "      <td>0.4000</td>\n",
       "      <td>0.1625</td>\n",
       "      <td>0.2364</td>\n",
       "      <td>0.07678</td>\n",
       "      <td>0</td>\n",
       "    </tr>\n",
       "  </tbody>\n",
       "</table>\n",
       "<p>5 rows × 31 columns</p>\n",
       "</div>"
      ],
      "text/plain": [
       "   mean radius  mean texture  mean perimeter  mean area  mean smoothness  \\\n",
       "0        17.99         10.38          122.80     1001.0          0.11840   \n",
       "1        20.57         17.77          132.90     1326.0          0.08474   \n",
       "2        19.69         21.25          130.00     1203.0          0.10960   \n",
       "3        11.42         20.38           77.58      386.1          0.14250   \n",
       "4        20.29         14.34          135.10     1297.0          0.10030   \n",
       "\n",
       "   mean compactness  mean concavity  mean concave points  mean symmetry  \\\n",
       "0           0.27760          0.3001              0.14710         0.2419   \n",
       "1           0.07864          0.0869              0.07017         0.1812   \n",
       "2           0.15990          0.1974              0.12790         0.2069   \n",
       "3           0.28390          0.2414              0.10520         0.2597   \n",
       "4           0.13280          0.1980              0.10430         0.1809   \n",
       "\n",
       "   mean fractal dimension  ...  worst texture  worst perimeter  worst area  \\\n",
       "0                 0.07871  ...          17.33           184.60      2019.0   \n",
       "1                 0.05667  ...          23.41           158.80      1956.0   \n",
       "2                 0.05999  ...          25.53           152.50      1709.0   \n",
       "3                 0.09744  ...          26.50            98.87       567.7   \n",
       "4                 0.05883  ...          16.67           152.20      1575.0   \n",
       "\n",
       "   worst smoothness  worst compactness  worst concavity  worst concave points  \\\n",
       "0            0.1622             0.6656           0.7119                0.2654   \n",
       "1            0.1238             0.1866           0.2416                0.1860   \n",
       "2            0.1444             0.4245           0.4504                0.2430   \n",
       "3            0.2098             0.8663           0.6869                0.2575   \n",
       "4            0.1374             0.2050           0.4000                0.1625   \n",
       "\n",
       "   worst symmetry  worst fractal dimension  target  \n",
       "0          0.4601                  0.11890       0  \n",
       "1          0.2750                  0.08902       0  \n",
       "2          0.3613                  0.08758       0  \n",
       "3          0.6638                  0.17300       0  \n",
       "4          0.2364                  0.07678       0  \n",
       "\n",
       "[5 rows x 31 columns]"
      ]
     },
     "execution_count": 40,
     "metadata": {},
     "output_type": "execute_result"
    }
   ],
   "source": [
    "df=pd.DataFrame(data=data['data'],columns=data.feature_names)\n",
    "df['target']=data['target']\n",
    "df.head()"
   ]
  },
  {
   "cell_type": "code",
   "execution_count": 41,
   "id": "7a53de6c-c33d-4343-8532-8c6b72f53cdc",
   "metadata": {},
   "outputs": [
    {
     "name": "stdout",
     "output_type": "stream",
     "text": [
      "<class 'pandas.core.frame.DataFrame'>\n",
      "RangeIndex: 569 entries, 0 to 568\n",
      "Data columns (total 31 columns):\n",
      " #   Column                   Non-Null Count  Dtype  \n",
      "---  ------                   --------------  -----  \n",
      " 0   mean radius              569 non-null    float64\n",
      " 1   mean texture             569 non-null    float64\n",
      " 2   mean perimeter           569 non-null    float64\n",
      " 3   mean area                569 non-null    float64\n",
      " 4   mean smoothness          569 non-null    float64\n",
      " 5   mean compactness         569 non-null    float64\n",
      " 6   mean concavity           569 non-null    float64\n",
      " 7   mean concave points      569 non-null    float64\n",
      " 8   mean symmetry            569 non-null    float64\n",
      " 9   mean fractal dimension   569 non-null    float64\n",
      " 10  radius error             569 non-null    float64\n",
      " 11  texture error            569 non-null    float64\n",
      " 12  perimeter error          569 non-null    float64\n",
      " 13  area error               569 non-null    float64\n",
      " 14  smoothness error         569 non-null    float64\n",
      " 15  compactness error        569 non-null    float64\n",
      " 16  concavity error          569 non-null    float64\n",
      " 17  concave points error     569 non-null    float64\n",
      " 18  symmetry error           569 non-null    float64\n",
      " 19  fractal dimension error  569 non-null    float64\n",
      " 20  worst radius             569 non-null    float64\n",
      " 21  worst texture            569 non-null    float64\n",
      " 22  worst perimeter          569 non-null    float64\n",
      " 23  worst area               569 non-null    float64\n",
      " 24  worst smoothness         569 non-null    float64\n",
      " 25  worst compactness        569 non-null    float64\n",
      " 26  worst concavity          569 non-null    float64\n",
      " 27  worst concave points     569 non-null    float64\n",
      " 28  worst symmetry           569 non-null    float64\n",
      " 29  worst fractal dimension  569 non-null    float64\n",
      " 30  target                   569 non-null    int32  \n",
      "dtypes: float64(30), int32(1)\n",
      "memory usage: 135.7 KB\n"
     ]
    }
   ],
   "source": [
    "df.info()"
   ]
  },
  {
   "cell_type": "code",
   "execution_count": 42,
   "id": "d7dcdb87-69e8-4fb5-a9de-9ce7ad3fd63a",
   "metadata": {},
   "outputs": [
    {
     "data": {
      "text/plain": [
       "1    357\n",
       "0    212\n",
       "Name: target, dtype: int64"
      ]
     },
     "execution_count": 42,
     "metadata": {},
     "output_type": "execute_result"
    }
   ],
   "source": [
    "df['target'].value_counts()\n"
   ]
  },
  {
   "cell_type": "code",
   "execution_count": 43,
   "id": "4da304c4-b024-4d6a-80be-a033e8bf9a8e",
   "metadata": {},
   "outputs": [],
   "source": [
    "X=df.iloc[:,:-1].values\n",
    "y=df['target'].values"
   ]
  },
  {
   "cell_type": "code",
   "execution_count": 44,
   "id": "fbb1ec1c-b076-4302-9e50-9900aaf5c9f7",
   "metadata": {},
   "outputs": [],
   "source": [
    "from sklearn.model_selection import train_test_split \n",
    "\n",
    "train_X,test_X,train_y,test_y=train_test_split(X,y,test_size=0.2)"
   ]
  },
  {
   "cell_type": "markdown",
   "id": "584d4ca1-b723-408b-820d-2d2c81289470",
   "metadata": {},
   "source": [
    "## Perceptron"
   ]
  },
  {
   "cell_type": "code",
   "execution_count": 5,
   "id": "79585166-4858-450d-b7fb-094484aec76d",
   "metadata": {},
   "outputs": [],
   "source": [
    "def sigmoid(X):\n",
    "    return 1/(1+np.exp(-X))"
   ]
  },
  {
   "cell_type": "code",
   "execution_count": 9,
   "id": "dc083644-4c64-4586-ad72-6ab4447524a7",
   "metadata": {},
   "outputs": [],
   "source": [
    "def update_weights(weights,X,z,y,lr):\n",
    "    m=len(y)\n",
    "    \n",
    "    dw=(1/m)*np.dot(X.T,(z-y))\n",
    "    \n",
    "    weights=weights-lr*dw\n",
    "    \n",
    "    return weights\n",
    "    "
   ]
  },
  {
   "cell_type": "code",
   "execution_count": 10,
   "id": "f5f15c4e-28c0-4cce-9468-d8370058ecab",
   "metadata": {},
   "outputs": [],
   "source": [
    "def update_bais(bais,X,z,y,lr):\n",
    "    m=len(y)\n",
    "    \n",
    "    db=(1/m)*np.sum(z-y)\n",
    "    bais=bais-lr*db\n",
    "    return bais"
   ]
  },
  {
   "cell_type": "code",
   "execution_count": 48,
   "id": "4947d7df-99a3-4c15-92fa-875c947d75a3",
   "metadata": {},
   "outputs": [],
   "source": [
    "def perceptron(X,weights,bais):\n",
    "    linear_prediction=np.dot(X,weights)+bais\n",
    "    \n",
    "    y_pred=sigmoid(linear_prediction)\n",
    "    \n",
    "    y_p=[1 if y>=0.5 else 0  for y in y_pred ]\n",
    "     \n",
    "    \"\"\" \n",
    "    y_p=[]\n",
    "    for y in y_pred:\n",
    "        if y>=0.5:\n",
    "            y_p.append(1)\n",
    "            \n",
    "        else:\n",
    "            y_p.append(0)\n",
    "            \n",
    "    \"\"\"\n",
    "\n",
    "    return y_p"
   ]
  },
  {
   "cell_type": "code",
   "execution_count": 49,
   "id": "2c0e0a10-b2aa-4b33-b207-40f7140c42b4",
   "metadata": {},
   "outputs": [
    {
     "data": {
      "text/plain": [
       "(455, 30)"
      ]
     },
     "execution_count": 49,
     "metadata": {},
     "output_type": "execute_result"
    }
   ],
   "source": [
    "train_X.shape\n"
   ]
  },
  {
   "cell_type": "code",
   "execution_count": 11,
   "id": "aed9f455-4e5a-41fa-a7ff-51cac2d2d787",
   "metadata": {},
   "outputs": [],
   "source": [
    "def accuarcy(y_pred,y_actual):\n",
    "    return np.sum(y_pred==y_actual)/len(y_actual)"
   ]
  },
  {
   "cell_type": "markdown",
   "id": "100cc2ee-a5be-4e8b-bdbe-1242a555ed08",
   "metadata": {},
   "source": [
    "### Train "
   ]
  },
  {
   "cell_type": "code",
   "execution_count": 81,
   "id": "e37a8791-d201-49d1-a6f8-21d653b07716",
   "metadata": {},
   "outputs": [],
   "source": [
    "lr=0.001\n",
    "weights=np.zeros(train_X.shape[1]) #30 zero for 30 weight\n",
    "bais=0\n",
    "\n",
    "\n",
    "\n",
    "for i in range(1000):\n",
    "    \n",
    "    pred=perceptron(train_X,weights,bais)\n",
    "    \n",
    "    #print(\"Accuracy : \",accuarcy(pred,train_y))\n",
    "    \n",
    "    \n",
    "    weights=update_weights(weights,train_X,pred,train_y,lr)\n",
    "    bais=update_bais(bais,train_X,pred,train_y,lr)   "
   ]
  },
  {
   "cell_type": "code",
   "execution_count": 82,
   "id": "5564b16f-ba65-44b0-9ee3-4b215b6b420b",
   "metadata": {},
   "outputs": [
    {
     "data": {
      "text/plain": [
       "array([ 2.89521277e-01,  3.96697407e-01,  1.67731655e+00,  5.86045495e-01,\n",
       "        2.58241099e-03, -1.40792754e-03, -5.57040231e-03, -2.31996682e-03,\n",
       "        4.96404593e-03,  2.06399174e-03, -2.98510549e-04,  2.00468914e-02,\n",
       "       -1.34583242e-02, -8.92036954e-01,  1.12005229e-04, -5.10045508e-04,\n",
       "       -8.37469395e-04, -1.09237244e-04,  3.57028059e-04, -2.49613758e-06,\n",
       "        3.08408075e-01,  4.91218615e-01,  1.75067943e+00, -8.99560440e-01,\n",
       "        3.18530332e-03, -5.36027149e-03, -1.07325694e-02, -2.48037407e-03,\n",
       "        6.89521912e-03,  1.89402389e-03])"
      ]
     },
     "execution_count": 82,
     "metadata": {},
     "output_type": "execute_result"
    }
   ],
   "source": [
    "weights"
   ]
  },
  {
   "cell_type": "code",
   "execution_count": 83,
   "id": "73dbcb10-50cd-48ed-b7d6-cd42643c2272",
   "metadata": {},
   "outputs": [
    {
     "data": {
      "text/plain": [
       "0.03796923076923057"
      ]
     },
     "execution_count": 83,
     "metadata": {},
     "output_type": "execute_result"
    }
   ],
   "source": [
    "bais"
   ]
  },
  {
   "cell_type": "code",
   "execution_count": 84,
   "id": "25db3f94-7b77-4758-9f5d-48018c5dbfc3",
   "metadata": {},
   "outputs": [
    {
     "name": "stdout",
     "output_type": "stream",
     "text": [
      "Accuarcy :  0.9210526315789473\n"
     ]
    }
   ],
   "source": [
    "y_pred=perceptron(test_X,weights,bais)\n",
    "print(\"Accuarcy : \" ,accuarcy(y_pred,test_y))"
   ]
  },
  {
   "cell_type": "code",
   "execution_count": 85,
   "id": "a959fd01-ff8e-4cf2-a267-33f1d90cd421",
   "metadata": {},
   "outputs": [
    {
     "name": "stdout",
     "output_type": "stream",
     "text": [
      "Accuarcy :  0.9120879120879121\n"
     ]
    }
   ],
   "source": [
    "y_pred=perceptron(train_X,weights,bais)\n",
    "print(\"Accuarcy : \" ,accuarcy(y_pred,train_y))"
   ]
  },
  {
   "cell_type": "code",
   "execution_count": 8,
   "id": "b496e5e7-d696-46a4-92cf-6849df0a255b",
   "metadata": {},
   "outputs": [
    {
     "data": {
      "text/plain": [
       "np.float64(1.0)"
      ]
     },
     "execution_count": 8,
     "metadata": {},
     "output_type": "execute_result"
    }
   ],
   "source": [
    "sigmoid(4555555)"
   ]
  },
  {
   "cell_type": "code",
   "execution_count": null,
   "id": "b8d0fb28-3d7d-4ffd-b9f1-ad3cfbea85fe",
   "metadata": {},
   "outputs": [],
   "source": []
  }
 ],
 "metadata": {
  "kernelspec": {
   "display_name": "Python 3 (ipykernel)",
   "language": "python",
   "name": "python3"
  },
  "language_info": {
   "codemirror_mode": {
    "name": "ipython",
    "version": 3
   },
   "file_extension": ".py",
   "mimetype": "text/x-python",
   "name": "python",
   "nbconvert_exporter": "python",
   "pygments_lexer": "ipython3",
   "version": "3.13.2"
  }
 },
 "nbformat": 4,
 "nbformat_minor": 5
}
